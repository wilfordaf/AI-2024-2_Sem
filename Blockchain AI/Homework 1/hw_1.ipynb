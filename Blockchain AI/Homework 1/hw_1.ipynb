{
  "cells": [
    {
      "cell_type": "markdown",
      "id": "7f229407",
      "metadata": {
        "id": "7f229407"
      },
      "source": [
        "### Task 1. Form the following block and calculate its hash.\n",
        "\n",
        "```\n",
        "{\n",
        "    'index': 4,\n",
        "    'timestamp': 0,\n",
        "    'previous_hash':'0009e52e043a9f83524d01485dda65fe16b6d0dd4239c1c938834be249a432e3',\n",
        "    'nonce': 0,\n",
        "    'author': 'Satoshi',\n",
        "    'transactions': [\n",
        "        {\n",
        "            'sender_address': 'Alice',\n",
        "            'recipient_address': 'Bob',\n",
        "            'value': 10,\n",
        "            'data': 'Hello Bob!',\n",
        "        },\n",
        "        {\n",
        "            'sender_address': 'Bob',\n",
        "            'recipient_address': 'Alice',\n",
        "            'value': 5,\n",
        "            'data': 'Hello Alice!',\n",
        "        }\n",
        "    ]\n",
        "}\n",
        "```"
      ]
    },
    {
      "cell_type": "code",
      "execution_count": 1,
      "id": "be0db78b",
      "metadata": {},
      "outputs": [],
      "source": [
        "from blockchain import Transaction, Block"
      ]
    },
    {
      "cell_type": "code",
      "execution_count": 2,
      "id": "d6d80b58",
      "metadata": {},
      "outputs": [],
      "source": [
        "tx1 = Transaction(sender_address=\"Alice\", recipient_address=\"Bob\", value=10, data=\"Hello Bob!\")\n",
        "tx2 = Transaction(sender_address=\"Bob\", recipient_address=\"Alice\", value=5, data=\"Hello Alice!\")"
      ]
    },
    {
      "cell_type": "code",
      "execution_count": 3,
      "id": "8f07f5cb",
      "metadata": {},
      "outputs": [],
      "source": [
        "block = Block(\n",
        "    index=4,\n",
        "    transactions=[tx1, tx2],\n",
        "    author=\"Satoshi\",\n",
        "    timestamp=0,\n",
        "    previous_hash=\"0009e52e043a9f83524d01485dda65fe16b6d0dd4239c1c938834be249a432e3\",\n",
        "    nonce=0,\n",
        ")"
      ]
    },
    {
      "cell_type": "code",
      "execution_count": 4,
      "id": "872226a2",
      "metadata": {},
      "outputs": [
        {
          "name": "stdout",
          "output_type": "stream",
          "text": [
            "Task 1: Block hash is: e02f8bf9303b7b42b77e313887564761dd4923104a9a4d399161adf945b6f064\n"
          ]
        }
      ],
      "source": [
        "hash_block = block.compute_hash()\n",
        "print(\"Task 1: Block hash is:\", hash_block)"
      ]
    },
    {
      "cell_type": "markdown",
      "id": "572b0145",
      "metadata": {
        "id": "572b0145"
      },
      "source": [
        "### Task 2. Run PoW algorithm and find the proof of this block (from task1) with difficulty=3."
      ]
    },
    {
      "cell_type": "code",
      "execution_count": 5,
      "id": "1bf7896e",
      "metadata": {},
      "outputs": [],
      "source": [
        "from blockchain import BlockchainPeer"
      ]
    },
    {
      "cell_type": "code",
      "execution_count": 6,
      "id": "c53d1c4c",
      "metadata": {},
      "outputs": [],
      "source": [
        "BlockchainPeer.difficulty = 3"
      ]
    },
    {
      "cell_type": "code",
      "execution_count": 7,
      "id": "6cbc2299",
      "metadata": {},
      "outputs": [
        {
          "name": "stdout",
          "output_type": "stream",
          "text": [
            "Task 2: Proof of work (difficulty=3): 0002e55332ede6e065fdc770f1ba8c026dbfa86b076a4369cf3aa49913629e21\n"
          ]
        }
      ],
      "source": [
        "proof = BlockchainPeer.proof_of_work(block)\n",
        "print(\"Task 2: Proof of work (difficulty=3):\", proof)"
      ]
    },
    {
      "cell_type": "markdown",
      "id": "41fee8b9",
      "metadata": {
        "id": "41fee8b9"
      },
      "source": [
        "### Task 3.  Init a single peer and mine 2 blocks with the same 2 transactions from the task1. Why hashes for these blocks are not the same?"
      ]
    },
    {
      "cell_type": "code",
      "execution_count": 8,
      "id": "e04b6095",
      "metadata": {},
      "outputs": [],
      "source": [
        "peer = BlockchainPeer(\"SinglePeer\")"
      ]
    },
    {
      "cell_type": "code",
      "execution_count": 9,
      "id": "5b67003f",
      "metadata": {},
      "outputs": [
        {
          "name": "stdout",
          "output_type": "stream",
          "text": [
            "Task 3: First mined block hash: 00074ad9f7a85c6fb461433b4ff688955b6488a12c923eb96e604e5c8b88c887\n"
          ]
        }
      ],
      "source": [
        "peer.add_new_transaction(tx1)\n",
        "peer.add_new_transaction(tx2)\n",
        "peer.mine()\n",
        "first_block_hash = peer.last_block.hash\n",
        "print(\"Task 3: First mined block hash:\", first_block_hash)"
      ]
    },
    {
      "cell_type": "code",
      "execution_count": 10,
      "id": "7d6ca3e0",
      "metadata": {},
      "outputs": [
        {
          "name": "stdout",
          "output_type": "stream",
          "text": [
            "Task 3: Second mined block hash: 0009fe708dabbe32e4bb9131900ffd4373e971e03be1f8f3ebc2f72b8fe46c6b\n"
          ]
        }
      ],
      "source": [
        "peer.add_new_transaction(tx1)\n",
        "peer.add_new_transaction(tx2)\n",
        "peer.mine()\n",
        "second_block_hash = peer.last_block.hash\n",
        "print(\"Task 3: Second mined block hash:\", second_block_hash)"
      ]
    },
    {
      "cell_type": "markdown",
      "id": "15469ff6",
      "metadata": {},
      "source": [
        "Они отличаются тем, что хэш каждого блока зависит от его индекса, `timestamp` и `nonce`."
      ]
    },
    {
      "cell_type": "markdown",
      "id": "3be612b4",
      "metadata": {
        "id": "3be612b4"
      },
      "source": [
        "### Task 4. Mine 100 blocks (in 1 block should be max 5 transactions) with 5 peers. Plot a distribution of mined blocks by each peer. Explain why the distributions look like this? Now turn on a difficulty bomb and make the same"
      ]
    },
    {
      "cell_type": "code",
      "execution_count": 1,
      "id": "48ea8e78",
      "metadata": {},
      "outputs": [
        {
          "name": "stderr",
          "output_type": "stream",
          "text": [
            "C:\\Users\\emperor\\AppData\\Local\\Temp\\ipykernel_11352\\2944232828.py:5: TqdmWarning: IProgress not found. Please update jupyter and ipywidgets. See https://ipywidgets.readthedocs.io/en/stable/user_install.html\n",
            "  from tqdm.autonotebook import tqdm\n"
          ]
        }
      ],
      "source": [
        "import random\n",
        "import warnings\n",
        "\n",
        "import matplotlib.pyplot as plt\n",
        "from tqdm.autonotebook import tqdm\n",
        "\n",
        "from blockchain import BlockchainPeer, BlockchainMainnet, Transaction\n",
        "\n",
        "warnings.filterwarnings(\"ignore\")"
      ]
    },
    {
      "cell_type": "code",
      "execution_count": 20,
      "id": "ee430be8",
      "metadata": {},
      "outputs": [],
      "source": [
        "peers = [BlockchainPeer(f\"Peer{i}\") for i in range(1, 6)]\n",
        "mainnet = BlockchainMainnet(peers)"
      ]
    },
    {
      "cell_type": "code",
      "execution_count": 23,
      "id": "cbce5985",
      "metadata": {},
      "outputs": [
        {
          "name": "stderr",
          "output_type": "stream",
          "text": [
            "100%|██████████| 100/100 [02:15<00:00,  1.35s/it]\n"
          ]
        }
      ],
      "source": [
        "for _ in tqdm(range(100)):\n",
        "    num_txs = random.randint(1, 5)\n",
        "    for _ in range(num_txs):\n",
        "        selected_sender, selected_recipient = random.choices(range(1, 6), k=2)\n",
        "        transaction = Transaction(f\"Peer{selected_sender}\", f\"Peer{selected_recipient}\", value=1)\n",
        "        \n",
        "        for peer in peers:\n",
        "            peer.add_new_transaction(transaction)\n",
        "            \n",
        "    mainnet.run_mining()"
      ]
    },
    {
      "cell_type": "code",
      "execution_count": 24,
      "id": "b5ee932a",
      "metadata": {},
      "outputs": [
        {
          "data": {
            "text/plain": [
              "{'Satoshi': 1, 'Peer2': 9, 'Peer5': 79, 'Peer4': 6, 'Peer1': 6}"
            ]
          },
          "execution_count": 24,
          "metadata": {},
          "output_type": "execute_result"
        }
      ],
      "source": [
        "peer_blocks = {}\n",
        "for block in mainnet.get_chain()[\"chain\"]:\n",
        "    if block.author not in peer_blocks:\n",
        "        peer_blocks[block.author] = 0\n",
        "        \n",
        "    peer_blocks[block.author] += 1\n",
        "    \n",
        "peer_blocks"
      ]
    },
    {
      "cell_type": "code",
      "execution_count": 25,
      "id": "2b7f0823",
      "metadata": {},
      "outputs": [
        {
          "data": {
            "image/png": "[encoded data removed]",
            "text/plain": [
              "<Figure size 640x480 with 1 Axes>"
            ]
          },
          "metadata": {},
          "output_type": "display_data"
        }
      ],
      "source": [
        "names = list(peer_blocks.keys())\n",
        "counts = [peer_blocks[name] for name in names]\n",
        "plt.bar(names, counts)\n",
        "plt.xlabel(\"Peer\")\n",
        "plt.ylabel(\"Blocks mined\")\n",
        "plt.title(\"Distribution of mined blocks by each peer (without difficulty bomb)\")\n",
        "plt.show()"
      ]
    },
    {
      "cell_type": "code",
      "execution_count": 2,
      "id": "5459fc54",
      "metadata": {},
      "outputs": [],
      "source": [
        "peers = [BlockchainPeer(f\"Peer{i}\") for i in range(1, 6)]\n",
        "mainnet = BlockchainMainnet(peers)"
      ]
    },
    {
      "cell_type": "code",
      "execution_count": 3,
      "id": "df9891ec",
      "metadata": {},
      "outputs": [
        {
          "name": "stderr",
          "output_type": "stream",
          "text": [
            "100%|██████████| 100/100 [05:29<00:00,  3.29s/it]\n"
          ]
        }
      ],
      "source": [
        "for _ in tqdm(range(100)):\n",
        "    num_txs = random.randint(1, 5)\n",
        "    for _ in range(num_txs):\n",
        "        selected_sender, selected_recipient = random.choices(range(1, 6), k=2)\n",
        "        transaction = Transaction(f\"Peer{selected_sender}\", f\"Peer{selected_recipient}\", value=1)\n",
        "        \n",
        "        for peer in peers:\n",
        "            peer.add_new_transaction(transaction)\n",
        "            \n",
        "    mainnet.run_mining(bomb=True)"
      ]
    },
    {
      "cell_type": "code",
      "execution_count": 4,
      "id": "f5c06e62",
      "metadata": {},
      "outputs": [
        {
          "data": {
            "text/plain": [
              "{'Satoshi': 1, 'Peer2': 22, 'Peer4': 21, 'Peer1': 19, 'Peer5': 20, 'Peer3': 18}"
            ]
          },
          "execution_count": 4,
          "metadata": {},
          "output_type": "execute_result"
        }
      ],
      "source": [
        "peer_blocks = {}\n",
        "for block in mainnet.get_chain()[\"chain\"]:\n",
        "    if block.author not in peer_blocks:\n",
        "        peer_blocks[block.author] = 0\n",
        "        \n",
        "    peer_blocks[block.author] += 1\n",
        "    \n",
        "peer_blocks"
      ]
    },
    {
      "cell_type": "code",
      "execution_count": 5,
      "id": "137d6846",
      "metadata": {},
      "outputs": [
        {
          "data": {
            "image/png": "[encoded data removed]",
            "text/plain": [
              "<Figure size 640x480 with 1 Axes>"
            ]
          },
          "metadata": {},
          "output_type": "display_data"
        }
      ],
      "source": [
        "names = list(peer_blocks.keys())\n",
        "counts = [peer_blocks[name] for name in names]\n",
        "plt.bar(names, counts)\n",
        "plt.xlabel(\"Peer\")\n",
        "plt.ylabel(\"Blocks mined\")\n",
        "plt.title(\"Distribution of mined blocks by each peer (with difficulty bomb)\")\n",
        "plt.show()"
      ]
    },
    {
      "cell_type": "markdown",
      "id": "e1ef8e6b",
      "metadata": {
        "id": "e1ef8e6b"
      },
      "source": [
        "### Task5. Suppose all blocks have the same timestamp as the genesis block. Mine 5 blocks with transactions from task1 - use the peer name 'Satoshi'. Use the template below to override the updated mine() function with fixed timestamp.\n",
        "\n",
        "### Find the hash of the block after the block from the task2."
      ]
    },
    {
      "cell_type": "code",
      "execution_count": 12,
      "id": "f91c7746",
      "metadata": {},
      "outputs": [],
      "source": [
        "from blockchain import BlockchainPeer, Block\n",
        "import logging"
      ]
    },
    {
      "cell_type": "code",
      "execution_count": 13,
      "id": "37a3d0ec",
      "metadata": {
        "id": "37a3d0ec"
      },
      "outputs": [],
      "source": [
        "class FixedTimeBlockchainPeer(BlockchainPeer):\n",
        "    def mine(self):\n",
        "        logging.info(f\"{self.peer_name} | Start mining (FixedTime)\")\n",
        "        if not self.unconfirmed_transactions:\n",
        "            logging.info(f\"{self.peer_name} | No transactions to mine\")\n",
        "            return\n",
        "        \n",
        "        last_block = self.last_block\n",
        "        new_block = Block(\n",
        "            index=last_block.index + 1,\n",
        "            transactions=self.unconfirmed_transactions,\n",
        "            author=self.peer_name,\n",
        "            timestamp=0,\n",
        "            previous_hash=last_block.hash,\n",
        "            nonce=0,\n",
        "        )\n",
        "        \n",
        "        proof = self.proof_of_work(new_block)\n",
        "        self._add_block(new_block, proof)\n",
        "        self.unconfirmed_transactions = []\n",
        "        self._announce()"
      ]
    },
    {
      "cell_type": "code",
      "execution_count": 14,
      "id": "871c9579",
      "metadata": {
        "id": "871c9579"
      },
      "outputs": [],
      "source": [
        "peer_fixed = FixedTimeBlockchainPeer(\"Satoshi\")"
      ]
    },
    {
      "cell_type": "code",
      "execution_count": 15,
      "id": "7a191c91",
      "metadata": {},
      "outputs": [],
      "source": [
        "for i in range(5):\n",
        "    peer_fixed.add_new_transaction(tx1)\n",
        "    peer_fixed.add_new_transaction(tx2)\n",
        "    peer_fixed.mine()"
      ]
    },
    {
      "cell_type": "code",
      "execution_count": 17,
      "id": "7cd207a7",
      "metadata": {},
      "outputs": [
        {
          "data": {
            "text/plain": [
              "[{'index': 0, 'author': 'Satoshi', 'transactions': '[]', 'timestamp': 0, 'previous_hash': '0', 'nonce': 2529, 'hash': '000d66472480c5116303eaced5338aee2605ed6104d0787ce7cf23b99fb29658'},\n",
              " {'index': 1, 'author': 'Satoshi', 'transactions': '[{\"data\": \"Hello Bob!\", \"recipient_address\": \"Bob\", \"sender_address\": \"Alice\", \"tx_hash\": \"e300df2f71abb04af98edee0f591aa91406d205bf7f200280e6982ec72b10a32\", \"value\": 10}, {\"data\": \"Hello Alice!\", \"recipient_address\": \"Alice\", \"sender_address\": \"Bob\", \"tx_hash\": \"27ef2609d6803837823486454e7cb83005bfc8483a1dfdbf6f3651343d00b40c\", \"value\": 5}]', 'timestamp': 0, 'previous_hash': '000d66472480c5116303eaced5338aee2605ed6104d0787ce7cf23b99fb29658', 'nonce': 9199, 'hash': '0001388e4938037f9c8ef8742d8debbc4200fd9309dbae57e3b081966cbeff65'},\n",
              " {'index': 2, 'author': 'Satoshi', 'transactions': '[{\"data\": \"Hello Bob!\", \"recipient_address\": \"Bob\", \"sender_address\": \"Alice\", \"tx_hash\": \"e300df2f71abb04af98edee0f591aa91406d205bf7f200280e6982ec72b10a32\", \"value\": 10}, {\"data\": \"Hello Alice!\", \"recipient_address\": \"Alice\", \"sender_address\": \"Bob\", \"tx_hash\": \"27ef2609d6803837823486454e7cb83005bfc8483a1dfdbf6f3651343d00b40c\", \"value\": 5}]', 'timestamp': 0, 'previous_hash': '0001388e4938037f9c8ef8742d8debbc4200fd9309dbae57e3b081966cbeff65', 'nonce': 3181, 'hash': '000743756a51234bf1898b90f79f8aa3e9151c1bf7d4b17414af8bccc5283d4e'},\n",
              " {'index': 3, 'author': 'Satoshi', 'transactions': '[{\"data\": \"Hello Bob!\", \"recipient_address\": \"Bob\", \"sender_address\": \"Alice\", \"tx_hash\": \"e300df2f71abb04af98edee0f591aa91406d205bf7f200280e6982ec72b10a32\", \"value\": 10}, {\"data\": \"Hello Alice!\", \"recipient_address\": \"Alice\", \"sender_address\": \"Bob\", \"tx_hash\": \"27ef2609d6803837823486454e7cb83005bfc8483a1dfdbf6f3651343d00b40c\", \"value\": 5}]', 'timestamp': 0, 'previous_hash': '000743756a51234bf1898b90f79f8aa3e9151c1bf7d4b17414af8bccc5283d4e', 'nonce': 2485, 'hash': '0009e52e043a9f83524d01485dda65fe16b6d0dd4239c1c938834be249a432e3'},\n",
              " {'index': 4, 'author': 'Satoshi', 'transactions': '[{\"data\": \"Hello Bob!\", \"recipient_address\": \"Bob\", \"sender_address\": \"Alice\", \"tx_hash\": \"e300df2f71abb04af98edee0f591aa91406d205bf7f200280e6982ec72b10a32\", \"value\": 10}, {\"data\": \"Hello Alice!\", \"recipient_address\": \"Alice\", \"sender_address\": \"Bob\", \"tx_hash\": \"27ef2609d6803837823486454e7cb83005bfc8483a1dfdbf6f3651343d00b40c\", \"value\": 5}]', 'timestamp': 0, 'previous_hash': '0009e52e043a9f83524d01485dda65fe16b6d0dd4239c1c938834be249a432e3', 'nonce': 1021, 'hash': '0002e55332ede6e065fdc770f1ba8c026dbfa86b076a4369cf3aa49913629e21'},\n",
              " {'index': 5, 'author': 'Satoshi', 'transactions': '[{\"data\": \"Hello Bob!\", \"recipient_address\": \"Bob\", \"sender_address\": \"Alice\", \"tx_hash\": \"e300df2f71abb04af98edee0f591aa91406d205bf7f200280e6982ec72b10a32\", \"value\": 10}, {\"data\": \"Hello Alice!\", \"recipient_address\": \"Alice\", \"sender_address\": \"Bob\", \"tx_hash\": \"27ef2609d6803837823486454e7cb83005bfc8483a1dfdbf6f3651343d00b40c\", \"value\": 5}]', 'timestamp': 0, 'previous_hash': '0002e55332ede6e065fdc770f1ba8c026dbfa86b076a4369cf3aa49913629e21', 'nonce': 10980, 'hash': '0000b74269d01b5160e499123ffa0e78e0d24ab0b9145cb06fcb4188cc43bdd9'}]"
            ]
          },
          "execution_count": 17,
          "metadata": {},
          "output_type": "execute_result"
        }
      ],
      "source": [
        "peer_fixed.chain"
      ]
    },
    {
      "cell_type": "markdown",
      "id": "d9627ec3",
      "metadata": {},
      "source": [
        "Хэш блока после задания 2 `0000b74269d01b5160e499123ffa0e78e0d24ab0b9145cb06fcb4188cc43bdd9`"
      ]
    }
  ],
  "metadata": {
    "colab": {
      "provenance": [],
      "toc_visible": true
    },
    "kernelspec": {
      "display_name": ".venv",
      "language": "python",
      "name": "python3"
    },
    "language_info": {
      "codemirror_mode": {
        "name": "ipython",
        "version": 3
      },
      "file_extension": ".py",
      "mimetype": "text/x-python",
      "name": "python",
      "nbconvert_exporter": "python",
      "pygments_lexer": "ipython3",
      "version": "3.13.2"
    }
  },
  "nbformat": 4,
  "nbformat_minor": 5
}
